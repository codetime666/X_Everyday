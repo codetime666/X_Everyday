{
 "metadata": {
  "language_info": {
   "codemirror_mode": {
    "name": "ipython",
    "version": 3
   },
   "file_extension": ".py",
   "mimetype": "text/x-python",
   "name": "python",
   "nbconvert_exporter": "python",
   "pygments_lexer": "ipython3",
   "version": "3.7.6-final"
  },
  "orig_nbformat": 2,
  "kernelspec": {
   "name": "python3",
   "display_name": "Python 3",
   "language": "python"
  }
 },
 "nbformat": 4,
 "nbformat_minor": 2,
 "cells": [
  {
   "source": [
    " 2021年1月21日"
   ],
   "cell_type": "markdown",
   "metadata": {}
  },
  {
   "source": [
    "加班到不想说话，今天就这样吧！"
   ],
   "cell_type": "markdown",
   "metadata": {}
  },
  {
   "cell_type": "code",
   "execution_count": 4,
   "metadata": {},
   "outputs": [
    {
     "output_type": "stream",
     "name": "stdout",
     "text": [
      "今天是开始,晚安\n"
     ]
    }
   ],
   "source": [
    "print(\"今天是开始,晚安\")"
   ]
  },
  {
   "source": [
    "今日干货分享，获取知识的途径，我是那种知道很多获取知识的地方，确没有好好利用的散人，哈哈哈\n",
    "\n",
    "1.读书\n",
    "微信读书 / 豆瓣读书 / 京东读书 / 得到电子书/纸质书\n",
    "\n",
    "2-1.公众号\n",
    "《参考消息》、《人民日报》、《晚点LATEPOST》、《远川研究所》、《AI科技评论》、《新智元》、《经济观察报》\n",
    "\n",
    "2-2.杂志\n",
    "《财经》、《巴伦周刊》、《经济学人》、《环球科学》、《FT中文网》、《MIT科技评论》、《大西洋月刊/THE ATLANTIC》、《NATURE》、《SCIENCE》、《CELL》、《POPULAR SCIENCE》\n",
    "\n",
    "3.通用搜索工具\n",
    "\n",
    "4.查论文\n",
    "中国：知网\n",
    "海外：Google学术搜索\n",
    "\n",
    "5.智能研报检索平台\n",
    "萝卜投研 / 行行查 / 发现报告\n",
    "国外：ALPHSENSE\n",
    "\n",
    "6.上市公司数据和经济数据\n",
    "国内：WIND / 理杏仁\n",
    "国外：BLOOMBERG\n",
    "\n",
    "书单推荐：\n",
    "《被讨厌的勇气》、《原则》、《像哲学家一样生活》、《穷查理宝典》、《反脆弱》、《非对称风险》、《规模》、《第二曲线跨越s型曲线的二次增长》、《创业维艰》\n"
   ],
   "cell_type": "markdown",
   "metadata": {}
  },
  {
   "cell_type": "code",
   "execution_count": null,
   "metadata": {},
   "outputs": [],
   "source": []
  }
 ]
}