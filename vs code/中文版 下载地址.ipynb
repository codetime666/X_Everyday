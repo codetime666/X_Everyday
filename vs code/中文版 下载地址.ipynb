{
 "metadata": {
  "language_info": {
   "codemirror_mode": {
    "name": "ipython",
    "version": 3
   },
   "file_extension": ".py",
   "mimetype": "text/x-python",
   "name": "python",
   "nbconvert_exporter": "python",
   "pygments_lexer": "ipython3",
   "version": 3
  },
  "orig_nbformat": 2
 },
 "nbformat": 4,
 "nbformat_minor": 2,
 "cells": [
  {
   "source": [
    "https://github.com/skywind3000/awesome-cheatsheets/blob/cd8d0cebfe32c9263db8291a270bd33a162dc924/editors/keyboard-shortcuts-windows.pdf"
   ],
   "cell_type": "markdown",
   "metadata": {}
  }
 ]
}